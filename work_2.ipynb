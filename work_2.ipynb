{
  "nbformat": 4,
  "nbformat_minor": 0,
  "metadata": {
    "colab": {
      "provenance": [],
      "authorship_tag": "ABX9TyO5C7Zx5cinycjaKWREA8x8",
      "include_colab_link": true
    },
    "kernelspec": {
      "name": "python3",
      "display_name": "Python 3"
    },
    "language_info": {
      "name": "python"
    }
  },
  "cells": [
    {
      "cell_type": "markdown",
      "metadata": {
        "id": "view-in-github",
        "colab_type": "text"
      },
      "source": [
        "<a href=\"https://colab.research.google.com/github/dinis78/-/blob/main/work_2.ipynb\" target=\"_parent\"><img src=\"https://colab.research.google.com/assets/colab-badge.svg\" alt=\"Open In Colab\"/></a>"
      ]
    },
    {
      "cell_type": "code",
      "execution_count": 148,
      "metadata": {
        "id": "n-svam-bTnMX"
      },
      "outputs": [],
      "source": [
        "import keras\n",
        "from keras.layers import *\n",
        "import matplotlib.pyplot as plt\n",
        "import numpy as np\n",
        "import keras.utils"
      ]
    },
    {
      "cell_type": "code",
      "source": [
        "(x_train, y_train), (x_test, y_test) = keras.datasets.mnist.load_data()"
      ],
      "metadata": {
        "id": "XAHssf5sT4B6"
      },
      "execution_count": 149,
      "outputs": []
    },
    {
      "cell_type": "markdown",
      "source": [
        "Обучающие данные"
      ],
      "metadata": {
        "id": "ZEHn5Id2Ygnf"
      }
    },
    {
      "cell_type": "code",
      "source": [
        "x_train.shape"
      ],
      "metadata": {
        "colab": {
          "base_uri": "https://localhost:8080/"
        },
        "id": "HphYbhF5T8oM",
        "outputId": "63914467-f194-42df-c340-07e5084503c5"
      },
      "execution_count": 150,
      "outputs": [
        {
          "output_type": "execute_result",
          "data": {
            "text/plain": [
              "(60000, 28, 28)"
            ]
          },
          "metadata": {},
          "execution_count": 150
        }
      ]
    },
    {
      "cell_type": "code",
      "source": [
        "len(y_train)"
      ],
      "metadata": {
        "colab": {
          "base_uri": "https://localhost:8080/"
        },
        "id": "QjfERjOJXswE",
        "outputId": "5157106d-7929-4888-ac85-c33984eeff6f"
      },
      "execution_count": 151,
      "outputs": [
        {
          "output_type": "execute_result",
          "data": {
            "text/plain": [
              "60000"
            ]
          },
          "metadata": {},
          "execution_count": 151
        }
      ]
    },
    {
      "cell_type": "code",
      "source": [
        "y_train"
      ],
      "metadata": {
        "colab": {
          "base_uri": "https://localhost:8080/"
        },
        "id": "kfSclg85YQWj",
        "outputId": "80dc53cb-983f-4f16-ec60-dbce34f48327"
      },
      "execution_count": 152,
      "outputs": [
        {
          "output_type": "execute_result",
          "data": {
            "text/plain": [
              "array([5, 0, 4, ..., 5, 6, 8], dtype=uint8)"
            ]
          },
          "metadata": {},
          "execution_count": 152
        }
      ]
    },
    {
      "cell_type": "markdown",
      "source": [
        "Контрольные данные"
      ],
      "metadata": {
        "id": "dYQBEkqNYopj"
      }
    },
    {
      "cell_type": "code",
      "source": [
        "x_test.shape"
      ],
      "metadata": {
        "colab": {
          "base_uri": "https://localhost:8080/"
        },
        "id": "_pgIpd6oYew8",
        "outputId": "acbe1071-2d9e-44b5-cb34-0ee394220686"
      },
      "execution_count": 153,
      "outputs": [
        {
          "output_type": "execute_result",
          "data": {
            "text/plain": [
              "(10000, 28, 28)"
            ]
          },
          "metadata": {},
          "execution_count": 153
        }
      ]
    },
    {
      "cell_type": "code",
      "source": [
        "len(y_test)"
      ],
      "metadata": {
        "colab": {
          "base_uri": "https://localhost:8080/"
        },
        "id": "CdmbWVEbYnoD",
        "outputId": "940307f7-c9cf-4bd1-fe56-8f198bc7a8f7"
      },
      "execution_count": 154,
      "outputs": [
        {
          "output_type": "execute_result",
          "data": {
            "text/plain": [
              "10000"
            ]
          },
          "metadata": {},
          "execution_count": 154
        }
      ]
    },
    {
      "cell_type": "code",
      "source": [
        "y_test"
      ],
      "metadata": {
        "colab": {
          "base_uri": "https://localhost:8080/"
        },
        "id": "gvLIZu2uY8W2",
        "outputId": "4b6c97c9-eb72-4c7d-b547-a718e6379e36"
      },
      "execution_count": 155,
      "outputs": [
        {
          "output_type": "execute_result",
          "data": {
            "text/plain": [
              "array([7, 2, 1, ..., 4, 5, 6], dtype=uint8)"
            ]
          },
          "metadata": {},
          "execution_count": 155
        }
      ]
    },
    {
      "cell_type": "code",
      "source": [
        "from keras import models\n",
        "from keras import layers"
      ],
      "metadata": {
        "id": "wFnLZZq2aQXM"
      },
      "execution_count": 156,
      "outputs": []
    },
    {
      "cell_type": "code",
      "source": [
        "model = models.Sequential()\n",
        "model.add(layers.Dense(512, activation= 'relu', input_shape= (28 * 28,)))\n",
        "model.add(layers.Dense(10, activation= 'softmax'))\n"
      ],
      "metadata": {
        "id": "pNpz74C7Ze5M"
      },
      "execution_count": 157,
      "outputs": []
    },
    {
      "cell_type": "code",
      "source": [
        "model.compile(optimizer= 'rmsprop',\n",
        "              loss= 'categorical_crossentropy',\n",
        "              metrics=['accuracy'])"
      ],
      "metadata": {
        "id": "e6L333HkbnEE"
      },
      "execution_count": 158,
      "outputs": []
    },
    {
      "cell_type": "markdown",
      "source": [
        "Подготовка исходных данных"
      ],
      "metadata": {
        "id": "xU2Hoi3df6RA"
      }
    },
    {
      "cell_type": "code",
      "source": [
        "x_train = x_train.reshape((60000, 28 * 28))\n",
        "x_train = x_train.astype('float32') / 255\n",
        "x_test = x_test.reshape((10000, 28 * 28))\n",
        "x_test = x_test.astype('float32') / 255\n"
      ],
      "metadata": {
        "id": "NKEFToANdJcP"
      },
      "execution_count": 159,
      "outputs": []
    },
    {
      "cell_type": "code",
      "source": [
        "from keras.utils import to_categorical"
      ],
      "metadata": {
        "id": "Pt1dSLX0dMEm"
      },
      "execution_count": 160,
      "outputs": []
    },
    {
      "cell_type": "code",
      "source": [
        "y_train = to_categorical(y_train)\n",
        "y_test = to_categorical(y_test)\n"
      ],
      "metadata": {
        "id": "Qjdkch4Pdk3V"
      },
      "execution_count": 161,
      "outputs": []
    },
    {
      "cell_type": "markdown",
      "source": [
        "Обучачаем сеть\n"
      ],
      "metadata": {
        "id": "nLilvpPDebbo"
      }
    },
    {
      "cell_type": "code",
      "source": [
        "model.fit(x_train, y_train, epochs= 5, batch_size= 128)"
      ],
      "metadata": {
        "colab": {
          "base_uri": "https://localhost:8080/"
        },
        "id": "dGvNv3HFehf0",
        "outputId": "644e4428-45de-4716-e287-52db9cc665e1"
      },
      "execution_count": 162,
      "outputs": [
        {
          "output_type": "stream",
          "name": "stdout",
          "text": [
            "Epoch 1/5\n",
            "469/469 [==============================] - 4s 9ms/step - loss: 0.2637 - accuracy: 0.9229\n",
            "Epoch 2/5\n",
            "469/469 [==============================] - 4s 9ms/step - loss: 0.1078 - accuracy: 0.9684\n",
            "Epoch 3/5\n",
            "469/469 [==============================] - 4s 8ms/step - loss: 0.0703 - accuracy: 0.9792\n",
            "Epoch 4/5\n",
            "469/469 [==============================] - 4s 8ms/step - loss: 0.0514 - accuracy: 0.9850\n",
            "Epoch 5/5\n",
            "469/469 [==============================] - 4s 9ms/step - loss: 0.0382 - accuracy: 0.9886\n"
          ]
        },
        {
          "output_type": "execute_result",
          "data": {
            "text/plain": [
              "<keras.src.callbacks.History at 0x7f95dc067e80>"
            ]
          },
          "metadata": {},
          "execution_count": 162
        }
      ]
    },
    {
      "cell_type": "markdown",
      "source": [
        "распознание контрольного набора\n"
      ],
      "metadata": {
        "id": "BGQa-TTCgzEp"
      }
    },
    {
      "cell_type": "code",
      "source": [
        "test_loss, test_acc = model.evaluate(x_test, y_test)"
      ],
      "metadata": {
        "colab": {
          "base_uri": "https://localhost:8080/"
        },
        "id": "Ptpwyk84g6Ln",
        "outputId": "858bf9cc-1dbe-4dd4-a08e-76853a8f8ca5"
      },
      "execution_count": 163,
      "outputs": [
        {
          "output_type": "stream",
          "name": "stdout",
          "text": [
            "313/313 [==============================] - 1s 2ms/step - loss: 0.0622 - accuracy: 0.9821\n"
          ]
        }
      ]
    },
    {
      "cell_type": "markdown",
      "source": [
        "немного меньше"
      ],
      "metadata": {
        "id": "bpC5h6ROhRtN"
      }
    },
    {
      "cell_type": "code",
      "source": [
        "from PIL import Image\n"
      ],
      "metadata": {
        "id": "pmdiHwhppJ4E"
      },
      "execution_count": 164,
      "outputs": []
    },
    {
      "cell_type": "markdown",
      "source": [
        "загрузка изображения"
      ],
      "metadata": {
        "id": "g9Pi1x-kxSqp"
      }
    },
    {
      "cell_type": "code",
      "source": [
        "image = Image.open('/home/namber.jpg')\n",
        "image = image.resize((28, 28))"
      ],
      "metadata": {
        "id": "iIRiz3NQsIjf"
      },
      "execution_count": 165,
      "outputs": []
    },
    {
      "cell_type": "markdown",
      "source": [
        "преобразование изображения в массив"
      ],
      "metadata": {
        "id": "yWoTw1F5xTe5"
      }
    },
    {
      "cell_type": "code",
      "source": [
        "image_array = np.array(image)\n",
        "image_array = np.invert(image_array)"
      ],
      "metadata": {
        "id": "N1CZC074wyKq"
      },
      "execution_count": 166,
      "outputs": []
    },
    {
      "cell_type": "code",
      "source": [
        "image_array = image_array / 255.0"
      ],
      "metadata": {
        "id": "pmEVinZnxbzh"
      },
      "execution_count": 167,
      "outputs": []
    },
    {
      "cell_type": "markdown",
      "source": [
        "преоброзование в трёхмерный массив"
      ],
      "metadata": {
        "id": "X-dQii2qxooB"
      }
    },
    {
      "cell_type": "code",
      "source": [
        "image_array = np.reshape(image_array, (28, 28, 3))"
      ],
      "metadata": {
        "id": "kVv68I02xmAx"
      },
      "execution_count": 168,
      "outputs": []
    },
    {
      "cell_type": "markdown",
      "source": [
        "из цветного в оттенки серого"
      ],
      "metadata": {
        "id": "HcoWwGqy43Sb"
      }
    },
    {
      "cell_type": "code",
      "source": [
        "image_gray = image.convert('L')\n",
        "image_array = np.array(image_gray)\n",
        "image_array = np.reshape(image_array, (28, 28, 1))"
      ],
      "metadata": {
        "id": "7qLCfYds1fkh"
      },
      "execution_count": 169,
      "outputs": []
    },
    {
      "cell_type": "markdown",
      "source": [
        "преобразуем изображение в форму 784"
      ],
      "metadata": {
        "id": "kRHzt7EI48Ii"
      }
    },
    {
      "cell_type": "code",
      "source": [
        "image_array = np.reshape(image_array, (784,))\n"
      ],
      "metadata": {
        "id": "ARyjSdiH3MTk"
      },
      "execution_count": 171,
      "outputs": []
    },
    {
      "cell_type": "markdown",
      "source": [
        "и загружаем в модель"
      ],
      "metadata": {
        "id": "kYmDGlvn5Icb"
      }
    },
    {
      "cell_type": "code",
      "source": [
        "prediction = model.predict(np.array([image_array]))"
      ],
      "metadata": {
        "colab": {
          "base_uri": "https://localhost:8080/"
        },
        "id": "JZ_03rBEx9vi",
        "outputId": "f12243b7-f4e6-4b25-b451-08bf2657186a"
      },
      "execution_count": 172,
      "outputs": [
        {
          "output_type": "stream",
          "name": "stdout",
          "text": [
            "1/1 [==============================] - 0s 78ms/step\n"
          ]
        }
      ]
    },
    {
      "cell_type": "code",
      "source": [
        "predicet_digit = np.argmax(prediction)\n",
        "print('Предсказанная цифра: ', predicet_digit)"
      ],
      "metadata": {
        "colab": {
          "base_uri": "https://localhost:8080/"
        },
        "id": "igzKOh2l3kDU",
        "outputId": "43cf6ddb-51da-4450-a873-fe8784b95220"
      },
      "execution_count": 174,
      "outputs": [
        {
          "output_type": "stream",
          "name": "stdout",
          "text": [
            "Предсказанная цифра:  8\n"
          ]
        }
      ]
    }
  ]
}